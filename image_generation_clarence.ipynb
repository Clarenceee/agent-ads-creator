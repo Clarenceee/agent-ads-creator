{
 "cells": [
  {
   "cell_type": "code",
   "execution_count": 1,
   "metadata": {
    "colab": {
     "base_uri": "https://localhost:8080/"
    },
    "collapsed": true,
    "executionInfo": {
     "elapsed": 32006,
     "status": "ok",
     "timestamp": 1747056816454,
     "user": {
      "displayName": "clarence chan",
      "userId": "16516869579974611907"
     },
     "user_tz": -480
    },
    "id": "amkc9BA5r9fR",
    "outputId": "8b35c7b0-fcb2-41e5-c96e-345a9ccf20d0"
   },
   "outputs": [],
   "source": [
    "# !pip install python-dotenv -q\n",
    "# !pip install pydantic-ai -q"
   ]
  },
  {
   "cell_type": "code",
   "execution_count": 1,
   "metadata": {
    "colab": {
     "base_uri": "https://localhost:8080/"
    },
    "executionInfo": {
     "elapsed": 6587,
     "status": "ok",
     "timestamp": 1747056823044,
     "user": {
      "displayName": "clarence chan",
      "userId": "16516869579974611907"
     },
     "user_tz": -480
    },
    "id": "0GwDPaQ5_uNF",
    "outputId": "978446c0-1ab2-4366-e72b-7daa5e5ead9f"
   },
   "outputs": [
    {
     "data": {
      "text/plain": [
       "True"
      ]
     },
     "execution_count": 1,
     "metadata": {},
     "output_type": "execute_result"
    }
   ],
   "source": [
    "from openai import OpenAI\n",
    "import os\n",
    "import random\n",
    "import json\n",
    "import base64\n",
    "from pydantic_ai import Agent\n",
    "from pydantic_ai.tools import Tool\n",
    "\n",
    "from dependencies import Deps, Settings\n",
    "from caption_agent import ImageCaptioner\n",
    "from utils import (estimate_image_tokens, \n",
    "                   save_caption_output\n",
    ")\n",
    "\n",
    "from dotenv import load_dotenv\n",
    "load_dotenv('.env', override=True)"
   ]
  },
  {
   "cell_type": "markdown",
   "metadata": {},
   "source": [
    "#### Caption"
   ]
  },
  {
   "cell_type": "code",
   "execution_count": 2,
   "metadata": {
    "colab": {
     "base_uri": "https://localhost:8080/"
    },
    "executionInfo": {
     "elapsed": 3,
     "status": "ok",
     "timestamp": 1746842572192,
     "user": {
      "displayName": "clarence chan",
      "userId": "16516869579974611907"
     },
     "user_tz": -480
    },
    "id": "FvXoKOxLIJLH",
    "outputId": "da06f5d1-2f0b-4c69-d561-acf5b4c0128d"
   },
   "outputs": [
    {
     "name": "stdout",
     "output_type": "stream",
     "text": [
      "====================================================================================================\n",
      "Task Type : 1. Product Photography\n",
      "\n",
      "Target Platform : Instagram Post (1:1 Square) \n",
      "\n",
      "====================================================================================================\n",
      "Loaded 5 marketing options & image prompts.\n",
      "Marketing Options Sample : \n",
      " {'target_audience': 'Eco-conscious millennials seeking sustainable plant-based alternatives', 'target_niche': 'Plant-Based Beverages', 'target_objective': 'Increase brand awareness through engaging visual storytelling on Instagram', 'target_voice': 'Fresh, vibrant, and environmentally mindful'} \n",
      "\n",
      "Image Prompt Sample : \n",
      " {'visual_concept': {'main_subject': None, 'composition_and_framing': 'The shot uses a dynamic, slightly diagonal composition to create visual momentum, placing the soy milk bottle at a 30-degree angle to suggest motion while maintaining product prominence. A cluster of macro botanicals (hydrangeas, ferns, and sprouting lentils) frames the upper left quadrant, balancing the weight of reclaimed wood textures diagonally opposite. Negative space is minimized through strategic layering of foreground foliage and background moss.', 'background_environment': 'Subtle bokeh-blurred reclaimed wood slats with visible nail holes and lichen growth create tactile depth, while patches of moss and hand-thrown clay pots in the mid-background reinforce eco-authenticity. A faintly visible compostable cup and folded kraft paper packaging in the extreme background add narrative context about sustainability.', 'foreground_elements': 'Crisp macro lenses capture dewdrops on edible viola petals and basil leaves directly touching the bottle, with a viscous pour of soy milk over a laser-etched wooden coaster (showing carbon-neutral certification logos as micro-details). A scattering of hemp seeds and cracked wheat grains in the lower frame creates organic textural contrast.', 'lighting_and_mood': \"Morning-hour north light with a subtle honeycomb reflector creates soft highlights on the bottle's glass while emphasizing the translucency of the liquid inside. Gentle backlighting from the left creates glowing leaf edges, suggesting vitality. Mood balances freshness (cool highlights) with warmth (amber undertones in reclaimed wood tones).\", 'color_palette': \"Earthy neutrals (taupe, moss green, weathered oak) form the base layers, accented by botanical vibrancy (saturated leaf green, viola purple, golden wheat). The soy milk's warm ivory hue acts as a neutral anchor, while dewdrops reflect cyan and citrine secondary colors from surrounding foliage to add Instagram-friendly luminosity.\", 'visual_style': 'Biophilic design principles fused with photorealistic macro-texture focus - the style combines the organic materiality of Japanese wabi-sabi (visible wood grain, imperfect clay pots) with the clean minimalism of Scandinavian eco-design. Prop arrangement follows golden spiral composition to guide the eye from botanical details to product, while moisture textures on both bottle and foliage create tactile visual resonance.', 'promotional_text_visuals': None, 'branding_visuals': None, 'texture_and_details': 'Ultra-sharp macro renderings emphasize the micro-level biodegradable imperfections - the soy milk bottle retains subtle hand-blown glass seams, while wood surfaces show fungal mycelium growth patterns. Foliage includes photorealistic vein detailing with a mix of matte and glossy leaf surfaces to add light variation.', 'negative_elements': \"No plastic materials or industrial props, no flat artificial lighting, no neon colors, no generic leaf patterns that lack botanical specificity, and no overt branding elements. Avoid symmetrical compositions or harsh shadows that would distract from the product's organic qualities.\", 'creative_reasoning': \"The design leverages Instagram's square format to create a tactile ecosystem where every element reinforces sustainability: imperfect reclaimed materials reference artisanal craftsmanship, while interacting botanical elements create organic 'visual proof' of freshness. The macro textures satisfy millennial desire for authenticity, while soft lighting aligns with mindful brand personality. Bokeh depth maintains focus on product purity despite dynamic composition.\"}, 'aspect_ratio': '1:1', 'source_strategy_index': 0}\n",
      "====================================================================================================\n"
     ]
    }
   ],
   "source": [
    "# Get Ads Details from Context\n",
    "ctx_path = r'D:\\Self-Project\\LLM\\agent_ads\\pipeline_upstream_outputs\\output_with_styles_and_prompts_20250512_083938.json'\n",
    "\n",
    "with open(ctx_path, 'r') as file:\n",
    "    ctx_json = json.load(file)\n",
    "    \n",
    "\n",
    "# Get Task Type & Platform\n",
    "request_details = ctx_json.get('request_details')\n",
    "task_type = request_details.get('task_type')\n",
    "target_platform = request_details.get('target_platform')['name']\n",
    "print(\"=\"*100)\n",
    "print(f\"Task Type : {task_type}\\n\")\n",
    "print(f\"Target Platform : {target_platform} \\n\")\n",
    "print(\"=\"*100)\n",
    "\n",
    "# Get Markerting Options and Image Prompt\n",
    "processing_ctx = ctx_json.get('processing_context')\n",
    "marketing_options = processing_ctx.get('suggested_marketing_strategies')\n",
    "image_prompts = processing_ctx.get('generated_image_prompts')\n",
    "\n",
    "assert len(marketing_options) == len(image_prompts)\n",
    "print(f\"Loaded {len(image_prompts)} marketing options & image prompts.\")\n",
    "print(f\"Marketing Options Sample : \\n {marketing_options[0]} \\n\")\n",
    "print(f\"Image Prompt Sample : \\n {image_prompts[0]}\")\n",
    "print(\"=\"*100)\n"
   ]
  },
  {
   "cell_type": "code",
   "execution_count": 3,
   "metadata": {
    "id": "nz9QQQKqw6Sr"
   },
   "outputs": [],
   "source": [
    "caption_prompt_no_context = f\"\"\"\n",
    "  Given an image, create a creative, engaging, and contextually accurate Instagram caption based on the provided context and image.\n",
    "\n",
    "  The caption is designed to intrigue viewers, spark engagement, and clearly reflect the visual content described.\n",
    "\n",
    "  Aftter the caption, generate 5-10 relevant hashtags that are popular, engaging and directly related to the topic and visual elements, formatted neatly below the caption.\n",
    "\"\"\""
   ]
  },
  {
   "cell_type": "code",
   "execution_count": 4,
   "metadata": {
    "colab": {
     "base_uri": "https://localhost:8080/"
    },
    "executionInfo": {
     "elapsed": 46,
     "status": "ok",
     "timestamp": 1746842576539,
     "user": {
      "displayName": "clarence chan",
      "userId": "16516869579974611907"
     },
     "user_tz": -480
    },
    "id": "yI6W2yTGxbVT",
    "outputId": "3a1b3480-2f62-4832-b632-d3b11fab5b98"
   },
   "outputs": [
    {
     "name": "stdout",
     "output_type": "stream",
     "text": [
      "\n",
      "  # Role and Purpose:\n",
      "    You are a skilled caption-writing assistant tasked with creating compelling, platform-appropriate captions for visual content.\n",
      "    You analyze both the image and strategic marketing context to produce captions that align with the visual narrative, brand tone, and engagement goals.\n",
      "    Your caption should reflect the expectations and behaviors of the platform it is intended for.\n",
      "    You must always ensure:\n",
      "    - The caption is relevant to the image and coherent with the provided context.\n",
      "    - The tone, style, and formatting match the platform conventions and target audience expectations.\n",
      "    - If image details are ambiguous, make thoughtful inferences using the given context.\n",
      "\n",
      "  # Image Context : \n",
      "    {'visual_concept': {'main_subject': None, 'composition_and_framing': \"Central diagonal composition with the soy milk bottle tilted at 30 degrees mid-pour, capturing the liquid stream flowing from the bottle's mouth to a glass below. Sports props (matte-finish dumbbells in 5kg and 10kg sizes, a textured yoga mat in partial view) arranged rhythmically in the background to suggest motion and strength. Foreground elements like droplets and splashing soy milk frozen in motion.\", 'background_environment': \"Minimalist white seamless backdrop with subtle gradient lighting transitions. Floating abstract geometric shapes (cascading hexagons and ellipses) in soft transparent layers, symbolizing nutritional elements. A faint trail of motion blur following the bottle's arc to imply kinetic energy.\", 'foreground_elements': 'Macro-focused droplets of soy milk mid-air with visible plant-based particulates. Textured granite countertop edge visible in lower frame corner with gym chalk dust residue. Dumbbell weights appear partially submerged in a reflective soy milk puddle illusion.', 'lighting_and_mood': \"Ultra-bright studio lighting with 45-degree key light creating sharp shadow edges on dumbbells. Secondary rim lighting highlights the translucent glass bottle's contour and liquid viscosity. Moody highlights on the pouring stream to emphasize texture while maintaining the health-focused upbeat atmosphere.\", 'color_palette': 'Fresh sprout green (Pantone 16-0440 TPX) for soy milk, accented with matte black dumbbells and terracotta yoga mat details. Background gradients in cream-white transitioning to pale sky blue. Nutrient-related infographic elements in muted gold (for protein) and leaf green (for fiber) accents.', 'visual_style': 'Hybrid of commercial product photography and infographic-driven aesthetic, featuring controlled high-key studio environment with dramatic motion blur effects. Macro lens captures micro-details like soybean husk fragments in the bottle. Sports props arranged in Fibonacci pattern for subconscious visual harmony. Overlaid semi-transparent graphics resemble molecular structures (vitamins/minerals) with line art animations merging with the liquid stream.', 'promotional_text_visuals': None, 'branding_visuals': None, 'texture_and_details': 'Visible soybean sediment particles suspended in liquid. Wet glass surface texture with water droplets adhering to demonstrate freshness. Yoga mat surface shows pressed fingerprint details. Dumbbell grip texture visible with anti-slip rubber patterns.', 'negative_elements': 'Avoid dark shadows, artificial colorants in milk, gym equipment brand logos, cluttered elements, or any industrial-looking machinery in the backdrop', 'creative_reasoning': \"The diagonal composition with pouring action aligns with product photography goals while creating dynamic energy. High-key lighting with controlled shadows and macro focus meets technical requirements while emphasizing ingredient transparency. Sports props placed in Fibonacci arrangement create subconscious visual appeal. Color palette of natural greens and earth tones with infographic abstraction translates health benefits visually without text. Texture details validate 'handcrafted' positioning through material authenticity.\"}, 'aspect_ratio': '1:1', 'source_strategy_index': 1}\n",
      "\n",
      "  # Additional information of the poster:\n",
      "    - Target Audience : Fitness enthusiasts and health-focused individuals looking for nutritious beverage options\n",
      "    - Business Objective : Drive engagement by highlighting health benefits and natural ingredients\n",
      "    - Content Niche/Theme : Health and Wellness Drinks\n",
      "    - Brand Voice : Energetic, informative, and motivational\n",
      "\n",
      "\n",
      "  # Caption Strategy:\n",
      "  - Prioritize the **Business Objective** as the foundation of the caption.\n",
      "  - Use the **image context** to support and visually reinforce the marketing message — do not merely describe it.\n",
      "  - Language should reflect the **Brand Voice** and speak directly to the **Target Audience's desires, challenges, or aspirations**.\n",
      "\n",
      "\n",
      "  # Caption Instructions:\n",
      "  1. Write a creative, engaging, and contextually relevant caption tailored for instagram post (1:1 square).\n",
      "  2. Reflect the visual and strategic context accurately and creatively.\n",
      "  3. Use a tone and vocabulary that aligns with the brand voice and emotional cues provided.\n",
      "  4. The caption should be attention-grabbing, shareable, and foster audience interaction.\n",
      "  5. Always end with a clear call to action (CTA) that encourages likes, comments, shares, or another relevant engagement.\n",
      "  6. Occasionally, include a question or prompt to further invite conversation.\n",
      "  7. \n",
      "      Prioritize brevity, visual hooks, and emotional resonance. Use short, punchy language that grabs attention quickly.\n",
      "      Emojis or line breaks may be used sparingly to improve readability and expression.\n",
      "      Aftter the caption, generate 5 relevant hashtags that are popular, engaging and directly related to the topic and visual elements, formatted neatly below the caption.\n",
      "  \n",
      "\n",
      "\n",
      "\n"
     ]
    }
   ],
   "source": [
    "# @title Setup User Prompt\n",
    "idx = 1\n",
    "image_ctx_json = image_prompts[idx]\n",
    "marketing_strat = marketing_options[idx]\n",
    "\n",
    "# Set additional prompt for each platform\n",
    "target_platform = target_platform.lower()\n",
    "if \"instagram\" in target_platform:\n",
    "  additional_prompt =  \"\"\"\n",
    "      Prioritize brevity, visual hooks, and emotional resonance. Use short, punchy language that grabs attention quickly.\n",
    "      Emojis or line breaks may be used sparingly to improve readability and expression.\n",
    "      Aftter the caption, generate 5 relevant hashtags that are popular, engaging and directly related to the topic and visual elements, formatted neatly below the caption.\n",
    "  \"\"\"\n",
    "elif \"xiaohongshu\" in target_platform:\n",
    "  additional_prompt =  \"\"\"\n",
    "      Use a **first-person point of view**, as if sharing a personal experience, discovery, or recommendation.\n",
    "      Provide more detailed and informative captions that feel authentic and lifestyle-oriented. Emphasize storytelling, practical value, or experience-sharing in a conversational tone.\n",
    "      The caption should have a strong hook in the first line. You have to speak like a friend, not a salesperson and be honest and relatable, even with flaws or downsides.\n",
    "      The caption output should be in Mandarin.\n",
    "  \"\"\"\n",
    "elif \"facebook\" in target_platform:\n",
    "  target_platform = 'facebook'\n",
    "  additional_prompt = \"\"\"\n",
    "      Tailor the caption for a Facebook audience by emphasizing relatability, storytelling, and community-building.\n",
    "      Begin with a strong, curiosity-piquing opening line to capture attention in the feed.\n",
    "      Structure the caption with short, scannable paragraphs for readability.\n",
    "      Leverage storytelling or behind-the-scenes angles when possible to deepen emotional connection.\n",
    "      Subtle use of emojis and line breaks is encouraged to enhance flow without overwhelming the message.\n",
    "  \"\"\"\n",
    "\n",
    "caption_prompt_with_context = f\"\"\"\n",
    "  # Role and Purpose:\n",
    "    You are a skilled caption-writing assistant tasked with creating compelling, platform-appropriate captions for visual content.\n",
    "    You analyze both the image and strategic marketing context to produce captions that align with the visual narrative, brand tone, and engagement goals.\n",
    "    Your caption should reflect the expectations and behaviors of the platform it is intended for.\n",
    "    You must always ensure:\n",
    "    - The caption is relevant to the image and coherent with the provided context.\n",
    "    - The tone, style, and formatting match the platform conventions and target audience expectations.\n",
    "    - If image details are ambiguous, make thoughtful inferences using the given context.\n",
    "\n",
    "  # Image Context : \n",
    "    {image_ctx_json}\n",
    "\n",
    "  # Additional information of the poster:\n",
    "    - Target Audience : {marketing_strat.get('target_audience')}\n",
    "    - Business Objective : {marketing_strat.get('target_objective')}\n",
    "    - Content Niche/Theme : {marketing_strat.get('target_niche')}\n",
    "    - Brand Voice : {marketing_strat.get('target_voice')}\n",
    "\n",
    "\n",
    "  # Caption Strategy:\n",
    "  - Prioritize the **Business Objective** as the foundation of the caption.\n",
    "  - Use the **image context** to support and visually reinforce the marketing message — do not merely describe it.\n",
    "  - Language should reflect the **Brand Voice** and speak directly to the **Target Audience's desires, challenges, or aspirations**.\n",
    "\n",
    "\n",
    "  # Caption Instructions:\n",
    "  1. Write a creative, engaging, and contextually relevant caption tailored for {target_platform}.\n",
    "  2. Reflect the visual and strategic context accurately and creatively.\n",
    "  3. Use a tone and vocabulary that aligns with the brand voice and emotional cues provided.\n",
    "  4. The caption should be attention-grabbing, shareable, and foster audience interaction.\n",
    "  5. Always end with a clear call to action (CTA) that encourages likes, comments, shares, or another relevant engagement.\n",
    "  6. Occasionally, include a question or prompt to further invite conversation.\n",
    "  7. {additional_prompt}\n",
    "\n",
    "\n",
    "\"\"\"\n",
    "# Not so AI , tone\n",
    "\n",
    "print(caption_prompt_with_context)"
   ]
  },
  {
   "cell_type": "code",
   "execution_count": null,
   "metadata": {
    "id": "ljWoepH8rRlX"
   },
   "outputs": [
    {
     "name": "stdout",
     "output_type": "stream",
     "text": [
      "Using model : gpt-4.1-mini\n",
      "User Prompt: \n",
      "  # Role and Purpose:\n",
      "    You are a skilled caption-writing assistant tasked with creating compelling, platform-appropriate captions for visual content.\n",
      "    You analyze both the image and strategic marketing context to produce captions that align with the visual narrative, brand tone, and engagement goals.\n",
      "    Your caption should reflect the expectations and behaviors of the platform it is intended for.\n",
      "    You must always ensure:\n",
      "    - The caption is relevant to the image and coherent with the provided context.\n",
      "    - The tone, style, and formatting match the platform conventions and target audience expectations.\n",
      "    - If image details are ambiguous, make thoughtful inferences using the given context.\n",
      "\n",
      "  # Image Context : \n",
      "    {'visual_concept': {'main_subject': \"A whimsical animated family of four (parents and two children) sitting at a cozy pastel-colored brunch table filled with oversized, cartoon-style menu items like a giant stack of pancakes, a smiling milkshake, and a dancing omelet. Each family member is interacting joyfully with the food, with speech bubbles above their heads containing playful phrases like 'Yum-tastic!' and 'Brunch Time Magic!'.\", 'composition_and_framing': 'Centered, symmetrical composition with a circular layout to draw attention inward toward the family and the main promotional message. The animated characters and oversized food items create a dynamic, storybook-like focal point, with soft visual flow guiding the eye from the characters to the promotional text above.', 'background_environment': 'A soft, dreamlike brunch café rendered in pastel hues, with rounded archways, cartoon-style potted plants, and floating hearts. The walls are painted in gentle gradients of mint green and baby pink, with illustrated birds and balloons adding a sense of movement and joy. A large sun with a smiling face casts a warm, inviting glow.', 'foreground_elements': \"A cartoon-style checkered picnic blanket with embroidered '20% Off!' motifs in soft yellow and green, subtly reinforcing the promotion. A few scattered pastel confetti pieces and animated sparkles float around the family, enhancing the playful tone.\", 'lighting_and_mood': 'Soft, diffused lighting with a warm golden undertone, creating a cozy and inviting atmosphere. The mood is cheerful, whimsical, and family-oriented, evoking the comfort of a weekend morning spent together.', 'color_palette': \"A pastel-based palette of mint green, baby pink, soft yellow, and light lavender, accented with warm white highlights and gentle shadow tones. These colors align with the brand's yellow and green identity while enhancing the playful, family-friendly tone.\", 'visual_style': \"A whimsical, animated illustration style inspired by retro children's books, with soft outlines, rounded shapes, and exaggerated expressions. The characters are stylized with oversized heads and expressive eyes, while the food items are anthropomorphized with playful personalities. The overall aesthetic is hand-drawn and slightly textured, giving it a nostalgic yet modern feel. Speech bubbles and playful typography are integrated seamlessly into the scene, enhancing the narrative and promotional appeal.\", 'promotional_text_visuals': \"Bold, rounded sans-serif text in a playful font style, with the headline 'Weekend Brunch - 20% Off!' rendered in large, soft yellow letters with green outlines, placed at the top center of the image. The text is slightly curved to follow the circular composition, with pastel confetti and tiny cartoon forks and spoons integrated into the background of the text block for visual interest.\", 'branding_visuals': \"The brand's yellow and green colors are used prominently throughout the palette, with the logo subtly placed in the bottom right corner as a soft watermark. The playful sans-serif font used in the promotional text matches the brand's typographic identity, and the tagline 'Bringing Families Together Over Brunch!' is etched in tiny letters along the base of the illustration in a soft green tone.\", 'texture_and_details': \"Slight paper-texture overlay on the illustration to give it a tactile, storybook feel. Menu items have soft gradients and subtle highlights to give them a 3D, 'puffed-up' appearance. The characters have soft shading and rounded edges to enhance the whimsical, approachable tone.\", 'negative_elements': 'Avoid harsh lines, dark or saturated colors, overly complex details, or any elements that might distract from the central family or promotional message. No modern or minimalist design elements, and no food items that appear too realistic or unappetizing.', 'creative_reasoning': \"This concept leverages a whimsical, storybook-inspired style to appeal directly to both children and parents, aligning with the warm and approachable brand voice. The use of animated characters and playful food anthropomorphism creates emotional engagement and makes the promotion feel like part of a fun experience rather than just a discount. The centered composition and clear text placement ensure the message is immediately readable on Facebook's mixed feed format, while the pastel palette and soft lighting evoke a sense of comfort and family time. The branding elements are subtly integrated to maintain visual harmony without overpowering the scene.\"}, 'aspect_ratio': '1:1', 'source_strategy_index': 1}\n",
      "\n",
      "  # Additional information of the poster:\n",
      "    - Target Audience : Families looking for a relaxed weekend dining experience\n",
      "    - Business Objective : Encourage family visits during weekend brunch hours by promoting a family-friendly 20% discount\n",
      "    - Content Niche/Theme : Casual Dining Restaurants\n",
      "    - Brand Voice : Warm, friendly, and approachable to resonate with parents and children\n",
      "\n",
      "\n",
      "  # Caption Strategy:\n",
      "  - Prioritize the **Business Objective** as the foundation of the caption.\n",
      "  - Use the **image context** to support and visually reinforce the marketing message — do not merely describe it.\n",
      "  - Language should reflect the **Brand Voice** and speak directly to the **Target Audience's desires, challenges, or aspirations**.\n",
      "\n",
      "\n",
      "  # Caption Instructions:\n",
      "  1. Write a creative, engaging, and contextually relevant caption tailored for facebook.\n",
      "  2. Reflect the visual and strategic context accurately and creatively.\n",
      "  3. Use a tone and vocabulary that aligns with the brand voice and emotional cues provided.\n",
      "  4. The caption should be attention-grabbing, shareable, and foster audience interaction.\n",
      "  5. Always end with a clear call to action (CTA) that encourages likes, comments, shares, or another relevant engagement.\n",
      "  6. Occasionally, include a question or prompt to further invite conversation.\n",
      "  7. \n",
      "      Tailor the caption for a Facebook audience by emphasizing relatability, storytelling, and community-building.\n",
      "      Begin with a strong, curiosity-piquing opening line to capture attention in the feed.\n",
      "      Structure the caption with short, scannable paragraphs for readability.\n",
      "      Leverage storytelling or behind-the-scenes angles when possible to deepen emotional connection.\n",
      "      Subtle use of emojis and line breaks is encouraged to enhance flow without overwhelming the message.\n",
      "  \n",
      "\n",
      "\n",
      "\n",
      "-------------Output Summary--------------- \n",
      "\n",
      "Text : ✨ Brunch just got a whole lot brighter—and tastier! ✨\n",
      "\n",
      "Weekends are for cozy moments, big smiles, and even bigger pancakes 🥞💕 Bring the whole family to enjoy our playful brunch spread, where every bite feels like a warm hug and a dash of magic.\n",
      "\n",
      "Plus, enjoy **20% OFF** your weekend brunch feast! Because happy tummies make for the happiest memories. 🥳\n",
      "\n",
      "What’s your family’s favorite brunch treat? Share your go-to delight below! 👇\n",
      "\n",
      "Tag your brunch buddies and plan your next magical morning with us—because family time tastes better here. 💚💛 #WeekendBrunchMagic #FamilyTime #20PercentOff\n",
      "\n",
      "👉 Like, comment, and share to spread the love! \n",
      "\n",
      "Temperature : 1.0\n",
      "Top-P : 1.0\n",
      "Input tokens : 3057\n",
      "Output tokens : 155\n",
      "Total tokens : 3212\n"
     ]
    }
   ],
   "source": [
    "caption_model = 'gpt-4.1-mini'\n",
    "caption_agent = ImageCaptioner(model_name=caption_model)\n",
    "\n",
    "image_path = r'D:\\Self-Project\\LLM\\agent_ads\\pipeline_donwstream_outputs\\tc006\\generated_image_strategy_1_20250515_143550.png'\n",
    "base64_image = ImageCaptioner.encode_image(image_path)\n",
    "\n",
    "result = caption_agent.run(\n",
    "    image_base64=base64_image,\n",
    "    user_prompt=caption_prompt_with_context\n",
    ")\n",
    "\n",
    "# Save output\n",
    "save_caption_output(image_path, result)"
   ]
  },
  {
   "cell_type": "code",
   "execution_count": null,
   "metadata": {
    "id": "Xf2oRJL-9dYL"
   },
   "outputs": [],
   "source": [
    "# image_tokens = estimate_image_tokens(image_path=image_path, detail='high')\n",
    "# image_cost = image_tokens * 2.5 / 1000000\n",
    "# print(f\"Image input tokens : {image_tokens}\")\n",
    "# print(f\"Image input cost : ${image_cost}\")\n",
    "# print(f\"Image input cost : RM{image_cost*4.4}\")"
   ]
  },
  {
   "cell_type": "markdown",
   "metadata": {
    "id": "1tufvJFF2OO7"
   },
   "source": [
    "#### Test OpenAI WebSearch"
   ]
  },
  {
   "cell_type": "code",
   "execution_count": null,
   "metadata": {
    "colab": {
     "base_uri": "https://localhost:8080/"
    },
    "executionInfo": {
     "elapsed": 12044,
     "status": "ok",
     "timestamp": 1746718560578,
     "user": {
      "displayName": "clarence chan",
      "userId": "16516869579974611907"
     },
     "user_tz": -480
    },
    "id": "K3J_3YsF2Qim",
    "outputId": "89650be4-3d87-4a07-8113-355815f3019e"
   },
   "outputs": [
    {
     "name": "stdout",
     "output_type": "stream",
     "text": [
      "Search Usage = Inputs : 350 tokens, Outputs : 1079 tokens \n",
      "\n",
      "Reasoning Effort : None \n",
      "\n",
      "Output : I couldn't find specific information about a company named \"Eesoy.\" However, I can provide insights into the marketing strategies, brand positioning, and notable advertising campaigns of leading brands in the soy milk category.\n",
      "\n",
      "**Silk Soy Milk**\n",
      "\n",
      "- **Marketing Strategy**: Silk employs a comprehensive marketing approach that includes digital marketing, conventional advertising, and influencer partnerships. They utilize social media platforms to engage directly with consumers, answer queries, and gather feedback. Additionally, Silk integrates traditional marketing channels such as TV, magazine ads, and outdoor placements to reach a broader audience. ([case48.com](https://www.case48.com/case/Silk-Soy-Milk-A-Marketing-Strategy-11839?utm_source=openai))\n",
      "\n",
      "- **Brand Positioning**: Silk positions itself as a health-conscious alternative to dairy milk, emphasizing the nutritional benefits of soy. Their marketing often highlights the variety of flavors and health advantages, aiming to appeal to consumers seeking a wholesome beverage option. ([slideshare.net](https://www.slideshare.net/slideshow/silk-soymilk-advertising-plan/53906258?utm_source=openai))\n",
      "\n",
      "- **Notable Advertising Campaigns**: Silk has engaged in creative advertising initiatives, including collaborations with influencers and celebrities to promote their products. For instance, they have featured actors like Jeremy Renner in Super Bowl commercials, showcasing the product's benefits in an engaging manner. ([thebrandhopper.com](https://thebrandhopper.com/2024/10/12/a-deep-dive-into-the-marketing-strategies-of-danone-silk/?utm_source=openai))\n",
      "\n",
      "**Alpro**\n",
      "\n",
      "- **Marketing Strategy**: Alpro focuses on educational health positioning, aiming to motivate consumers to choose plant-based alternatives. Their strategy includes providing extensive recipes and cooking courses on their website, offering inspiration for incorporating plant-based products into daily meals. ([researchgate.net](https://www.researchgate.net/publication/375407704_Plant-Based_Milk_Alternatives_Consumer_Needs_and_Marketing_Strategies?utm_source=openai))\n",
      "\n",
      "- **Brand Positioning**: Alpro positions itself as a pioneer in plant-based dairy alternatives, emphasizing authenticity and a commitment to sustainability and health. They maintain transparency regarding ingredient sourcing and nutritional information to build trust with consumers. ([thebigmarketing.com](https://thebigmarketing.com/alpro-marketing-strategy-a-case-study/?utm_source=openai))\n",
      "\n",
      "- **Notable Advertising Campaigns**: Alpro's campaigns often focus on educating consumers about the benefits of plant-based nutrition and promoting a vegan lifestyle. They engage in strategic partnerships with organizations and influencers that align with their values, enhancing their market presence. ([thebigmarketing.com](https://thebigmarketing.com/alpro-marketing-strategy-a-case-study/?utm_source=openai))\n",
      "\n",
      "**Vitasoy**\n",
      "\n",
      "- **Marketing Strategy**: Vitasoy employs a 360-degree marketing approach, utilizing both digital and conventional marketing channels. They engage with consumers through social media, TV advertising, and point-of-sale displays, aiming to reach a wide audience. ([food-product-development-hannah.weebly.com](https://food-product-development-hannah.weebly.com/marketing-strategies-evaluation.html?utm_source=openai))\n",
      "\n",
      "- **Brand Positioning**: Vitasoy targets consumers with lactose, dairy, and gluten intolerances, positioning its products as healthy and suitable alternatives. ([food-product-development-hannah.weebly.com](https://food-product-development-hannah.weebly.com/marketing-strategies-evaluation.html?utm_source=openai))\n",
      "\n",
      "- **Notable Advertising Campaigns**: Vitasoy has released effective TV advertisements in China and Australia, highlighting the health benefits of their soy milk ranges. ([food-product-development-hannah.weebly.com](https://food-product-development-hannah.weebly.com/marketing-strategies-evaluation.html?utm_source=openai))\n",
      "\n",
      "**Oatly**\n",
      "\n",
      "- **Marketing Strategy**: Oatly's marketing approach is unconventional and bold, often challenging traditional dairy norms. They engage with their audience through witty and irreverent messaging, fostering a sense of trust and loyalty. Oatly also collaborates with influencers and celebrities who share their mission, extending their brand reach. ([latterly.org](https://www.latterly.org/oatly-marketing-strategy/?utm_source=openai))\n",
      "\n",
      "- **Brand Positioning**: Oatly positions itself as a young, cool, and rebellious brand, resonating with consumers who value sustainability and authenticity. They emphasize environmental responsibility and transparency in their messaging. ([latterly.org](https://www.latterly.org/oatly-marketing-strategy/?utm_source=openai))\n",
      "\n",
      "- **Notable Advertising Campaigns**: Oatly's campaigns often feature clever and irreverent messaging, such as their \"It's Like Milk But Made For Humans\" slogan. They also engage in unconventional marketing tactics, like using humor and sarcasm to challenge industry norms. ([latterly.org](https://www.latterly.org/oatly-marketing-strategy/?utm_source=openai))\n",
      "\n",
      "These brands exemplify diverse marketing strategies and brand positioning within the soy milk category, each catering to specific consumer needs and preferences. \n"
     ]
    }
   ],
   "source": [
    "client = OpenAI()\n",
    "\n",
    "# Price : gpt-4.1-mini : I 0.4/M O 1.6/M\n",
    "# Price : o4-mini  : I 1.1/M O 4.4/Ms\n",
    "# Price : gpt-4o-mini : I 0.15/M O 0.6/M\n",
    "\n",
    "# search_context_size : determine how much context being retrieve to form an output\n",
    "# for gpt-4.1-mini / 4o-mini\n",
    "# low : 25/1k calls\n",
    "# medium: 27.5/1k\n",
    "# high : 30/k\n",
    "\n",
    "# Search input template\n",
    "company_name = \"eesoy\"\n",
    "product_type = \"soy milk\"\n",
    "\n",
    "search_template = f\"\"\"\n",
    "  {company_name} company overview, marketing strategy, brand positioning, and notable advertising campaigns.\n",
    "  If details about this company are limited, find similar brands in the {product_type} category and summarize their marketing strategy, target audience, and brand positioning instead.\n",
    "\"\"\"\n",
    "\n",
    "response = client.responses.create(\n",
    "    model=\"gpt-4.1-mini\",\n",
    "    tools=[{\n",
    "        \"type\": \"web_search_preview\",\n",
    "        \"search_context_size\": \"low\",\n",
    "    }],\n",
    "    input=search_template\n",
    ")\n",
    "\n",
    "print(f\"Search Usage = Inputs : {response.usage.input_tokens} tokens, Outputs : {response.usage.output_tokens} tokens \\n\")\n",
    "print(f\"Reasoning Effort : {response.reasoning.effort} \\n\")\n",
    "print(f\"Output : {response.output_text}\")"
   ]
  },
  {
   "cell_type": "markdown",
   "metadata": {
    "id": "XoSRQI3OW6VK"
   },
   "source": [
    "## Sample\n",
    "\n",
    "\n",
    "### *** Input : ***\n",
    "peter thomas roth company overview, marketing strategy, brand positioning, and notable advertising campaigns\n",
    "\n",
    "### *** Output : ***\n",
    "\n",
    "Peter Thomas Roth is a skincare brand founded by its namesake, Peter Thomas Roth, a Hungarian-American entrepreneur. Established in 1993, the company is renowned for its innovative products that blend traditional European skincare techniques with modern technology.\n",
    "\n",
    "**Company Overview:**\n",
    "\n",
    "Peter Thomas Roth offers a comprehensive range of skincare products, including cleansers, masks, serums, moisturizers, and treatments. The brand emphasizes the use of potent ingredients such as botanicals, minerals, and vitamins to address various skin concerns. Their formulations are often inspired by European spa treatments, aiming to provide professional-level results at home.\n",
    "\n",
    "**Marketing Strategy:**\n",
    "\n",
    "The brand's marketing strategy focuses on educating consumers about the efficacy of its products through detailed ingredient transparency and highlighting the science behind each formulation. They leverage digital platforms, including social media and their official website, to engage with a global audience, offering skincare advice, tutorials, and customer testimonials. Collaborations with beauty influencers and professionals further enhance their reach and credibility.\n",
    "\n",
    "**Brand Positioning:**\n",
    "\n",
    "Peter Thomas Roth positions itself as a luxury skincare brand that delivers high-performance products inspired by European spa traditions. The brand appeals to consumers seeking effective, science-backed skincare solutions that combine the best of both worlds: traditional remedies and modern innovation.\n",
    "\n",
    "**Notable Advertising Campaigns:**\n",
    "\n",
    "While specific details about individual advertising campaigns are limited, Peter Thomas Roth's marketing efforts often include:\n",
    "\n",
    "- **Influencer Partnerships:** Collaborating with beauty influencers to showcase product effectiveness and reach a broader audience.\n",
    "\n",
    "- **Educational Content:** Providing in-depth information about product ingredients and benefits through various media channels.\n",
    "\n",
    "- **Seasonal Promotions:** Offering limited-time deals and exclusive sets to attract both new and existing customers.\n",
    "\n",
    "These strategies aim to build brand awareness, foster customer loyalty, and drive sales growth."
   ]
  },
  {
   "cell_type": "code",
   "execution_count": null,
   "metadata": {
    "colab": {
     "base_uri": "https://localhost:8080/"
    },
    "executionInfo": {
     "elapsed": 29,
     "status": "ok",
     "timestamp": 1746865040230,
     "user": {
      "displayName": "clarence chan",
      "userId": "16516869579974611907"
     },
     "user_tz": -480
    },
    "id": "-YOlffXSg1EL",
    "outputId": "4091da40-d9d4-4ff5-9c4c-d9aeeee5207d"
   },
   "outputs": [
    {
     "data": {
      "text/plain": [
       "dict_keys(['main_subject', 'composition_and_framing', 'background_environment', 'foreground_elements', 'lighting_and_mood', 'color_palette', 'visual_style', 'promotional_text_visuals', 'branding_visuals', 'texture_and_details', 'target_audience', 'business_objective', 'content_niche_or_theme', 'brand_voice'])"
      ]
     },
     "execution_count": 7,
     "metadata": {},
     "output_type": "execute_result"
    }
   ],
   "source": [
    "# visual_context = {\n",
    "#     \"main_subject\": \"Bottle of handcrafted soy milk\",\n",
    "#     \"composition_and_framing\": \"Square frame with the bottle of handcrafted soy milk placed on the right third of the image. The camera sits at a slight 10\\u00b0 top-down angle to reveal the bottle\\u2019s label and cap. Negative space on the left third for overlay text. Soybeans and a small ceramic bowl occupy the lower foreground, leading the eye toward the bottle.\",\n",
    "#     \"background_environment\": \"A clean, bright minimalist kitchen scene: white marble countertop with subtle grey veins (#FFFFFF to #AEB0B2 gradient backdrop). In the softly blurred background, out-of-focus soy leaves and pale pastel green accents hint at plant origins without cluttering.\",\n",
    "#     \"foreground_elements\": \"A scattering of fresh, golden soybeans across the countertop and a shallow off-white ceramic bowl spilling beans. A single green soy leaf rests gently beside the bowl to reinforce the natural theme.\",\n",
    "#     \"lighting_and_mood\": \"High-key natural daylight from the top left, diffused through a white reflector for soft shadows. Gentle highlights on the bottle\\u2019s condensation droplets create an appetizing, fresh feel. Overall mood is crisp, inviting, and wellness-oriented.\",\n",
    "#     \"color_palette\": \"#FFFFFF base for background, #AEB0B2 soft grey gradient, #F06683 vibrant pink accents, #231F20 deep charcoal for text, plus natural greens from soy leaves and warm golden tones from soybeans.\",\n",
    "#     \"visual_style\": \"Magazine-quality photorealism with a Scandinavian minimalist aesthetic. Shallow depth of field blurs background details. Composition uses negative space for text. Slight cinematic color grading to boost pink accent highlights and keep whites clean.\",\n",
    "#     \"promotional_text_visuals\": \"Headline: \\u201cPURE PLANT POWER\\u201d in uppercase bold sans-serif (weight 700) #231F20, placed in the left negative space, aligned flush left. Subhead: \\u201cHandcrafted Soy Milk for Your Daily Wellness\\u201d in regular sans-serif #231F20, smaller size beneath headline. Accent line or dot element in #F06683 separates headline and subhead.\",\n",
    "#     \"branding_visuals\": \"Placeholder for circular logo lockup in bottom right corner, logo in #231F20 on white circle with #F06683 stroke. Small brand tagline below logo in italic sans-serif #AEB0B2. A thin accent bar in #F06683 runs along the bottom edge of the frame.\",\n",
    "#     \"texture_and_details\": \"Visible droplets of condensation on the bottle surface. Crisp texture of soybeans in the bowl, subtle wood grain on the countertop edge. Veins in the marble are softly defined.\",\n",
    "#     \"target_audience\": \"Foodies/Gourmands\",\n",
    "#     \"business_objective\": \"Introduce New Menu Item\",\n",
    "#     \"content_niche_or_theme\": \"\",\n",
    "#     \"brand_voice\": \"Luxurious\"\n",
    "# }\n",
    "#     # \"negative_elements\": \"No busy patterns or bright conflicting colors. Avoid harsh shadows or overly saturated greens. No unrelated props (e.g., cutlery, electronics) that distract from the soy milk theme.\",\n",
    "#     # \"creative_reasoning\": \"By using a bright, minimalist kitchen setting and high-key natural light, we reinforce cleanliness and health\\u2014key values for health-conscious millennials. The negative space and pink accent (#F06683) align with brand colors while providing room for informative, friendly text. Foreground soybeans and leaves underscore the plant-based soy niche. The photorealistic, magazine-style execution elevates product visibility and encourages engagement on Instagram with a cohesive, wellness-focused voice.\"\n",
    "\n",
    "# visual_context.keys()\n"
   ]
  },
  {
   "cell_type": "code",
   "execution_count": null,
   "metadata": {
    "colab": {
     "base_uri": "https://localhost:8080/"
    },
    "executionInfo": {
     "elapsed": 17196,
     "status": "ok",
     "timestamp": 1746893277865,
     "user": {
      "displayName": "clarence chan",
      "userId": "16516869579974611907"
     },
     "user_tz": -480
    },
    "id": "1YAZ-RWWcfaE",
    "outputId": "c2132b50-6098-4522-a77c-83a6d603fc4f"
   },
   "outputs": [
    {
     "name": "stdout",
     "output_type": "stream",
     "text": [
      "Generated Visual Context = {'main_subject': None, 'composition_and_framing': \"Centered composition featuring the soy milk bottle as the primary subject, with surrounding contextual elements arranged in a triangular visual flow drawing attention back to the product. Dynamic diagonal balance created through placement of playful foreground elements (straw, fruit slices) aligned with the cap's orientation, while background textures subtly reinforce brand identity.\", 'background_environment': 'Textured paper background with abstract leaf patterns in desaturated pastel tones, subtly echoing soy plant motifs. Integrated into the background are minimalist food illustrations (whole soybeans and almond shapes) that convey nutritional transparency. A faint gradient overlay in brand pink (#F06683) adds warmth while maintaining a clean white core space around the product.', 'foreground_elements': 'Colorful sliced strawberries and kiwis arranged in a semi-circle radiating from the bottle base, with a small reusable straw and bamboo cup hinting at portability. Delicate hand-drawn icons (a cartoon brain and bones) in mint green accents float near foreground edges to symbolize cognitive and bone health benefits from soy protein.', 'lighting_and_mood': \"Bright but diffused daylight studio lighting with subtle golden hour warmth, creating clean highlights on the bottle's glass surface while keeping nutritional label details visible. Soft volumetric fog effect between foreground elements adds dimensionality without obscuring product clarity.\", 'color_palette': 'Dominant creamy white and natural soy tones (Pantone 11-4001) dominate the product area, accented by brand pink (#F06683) gradients in background textures. Secondary accents use the dark slate gray (#231f20) for textural elements and soft steel blue (#AEB0B2) for environmental highlights, creating a warm yet trustworthy tone.', 'visual_style': \"Hyper-realistic food photography combined with modern editorial infographics. Inspired by National Geographic's clean educational aesthetic but with Instagram-friendly playful energy, achieved through precise lighting combined with illustrated health icons. Lens sharpness prioritized around the product label and nutritional details.\", 'promotional_text_visuals': \"White text on curved pink (#F06683) banner wrapping top-right corner: 'Growing Strong Since 1995™' in bold uppercase Gotham typeface. Subtle shadowed text 'Non-GMO | No Added Sugar | 8g Protein/serving' appears along bottle's reflection line in tiny Futura font, blending educational messaging with visual continuity.\", 'branding_visuals': \"Brand 'SoyLife™' wordmark subtly etched as a watermark in #AEB0B2 steel blue along the diagonal negative space between foreground elements. Bottle cap color matches #F06683 primary pink, while label borders use #231f20 dark slate gray. A tiny leaf motif combining all four brand colors appears as a repeating pattern in the background texture.\", 'texture_and_details': \"Visible condensation droplets on bottle surface to emphasize freshness, with precise reflections showing a miniature 'family picnic' scene in the glass curve - a subtle narrative hint without distracting from product clarity. Bottle label material renders with slight linen texture visible under magnification.\", 'negative_elements': \"No harsh shadows, artificial backgrounds, visible logos beyond brand's own, exaggerated cartoon elements, or any elements suggesting ultra-processed ingredients. Avoid blue-heavy color schemes and prevent nutritional information from becoming unreadable due to lighting effects.\", 'creative_reasoning': \"The centered composition and triangular flow optimize product visibility in square format. Brand colors guide emotional perception - warm pink evokes care, dark gray builds trust, and steel blue suggests health. The illustrated icons bridge scientific benefit communication with child-friendly visuals. Hyper-realistic photography meets Instagram's aesthetic expectations, while educational textures support marketing goal of positioning soy milk as informed family choice. Daylight lighting with volumetric effects creates approachable sophistication fitting soy's 'natural but advanced' positioning.\"} \n",
      "\n",
      "Expected Marketing Strategies = {'target_audience': 'Parents seeking healthy plant-based options for their families', 'target_niche': 'Soy lover', 'target_objective': 'Expand exposure by promoting soy milk as a wholesome daily choice for kids', 'target_voice': 'Caring and trustworthy with a family-friendly approach'} \n",
      "\n"
     ]
    }
   ],
   "source": [
    "# @title Use Tool Search Result to Enhance Image Visual Context\n",
    "client = OpenAI()\n",
    "\n",
    "# Tool result from previous\n",
    "# tool_search_result = response.output_text\n",
    "\n",
    "gen_idx = 4\n",
    "visual_context= generated_image_prompts[gen_idx]['visual_concept']\n",
    "print(f\"Generated Visual Context = {visual_context} \\n\")\n",
    "\n",
    "expected_marketing_strat = suggested_marketing_strats[gen_idx]\n",
    "print(f\"Expected Marketing Strategies = {expected_marketing_strat} \\n\")\n",
    "\n",
    "tool_search_result = f\"\"\"\n",
    "   I couldn't find specific information about a company named \"Eesoy.\"\n",
    "   However, I can provide insights into the marketing strategies, brand positioning, and notable advertising campaigns of leading brands in the soy milk category.\n",
    "\n",
    "  **Silk Soy Milk**\n",
    "\n",
    "  - **Marketing Strategy**: Silk employs a comprehensive marketing approach that includes digital marketing, conventional advertising, and influencer partnerships. They utilize social media platforms to engage directly with consumers, answer queries, and gather feedback. Additionally, Silk integrates traditional marketing channels such as TV, magazine ads, and outdoor placements to reach a broader audience. ([case48.com](https://www.case48.com/case/Silk-Soy-Milk-A-Marketing-Strategy-11839?utm_source=openai))\n",
    "\n",
    "  - **Brand Positioning**: Silk positions itself as a health-conscious alternative to dairy milk, emphasizing the nutritional benefits of soy. Their marketing often highlights the variety of flavors and health advantages, aiming to appeal to consumers seeking a wholesome beverage option. ([slideshare.net](https://www.slideshare.net/slideshow/silk-soymilk-advertising-plan/53906258?utm_source=openai))\n",
    "\n",
    "  - **Notable Advertising Campaigns**: Silk has engaged in creative advertising initiatives, including collaborations with influencers and celebrities to promote their products. For instance, they have featured actors like Jeremy Renner in Super Bowl commercials, showcasing the product's benefits in an engaging manner. ([thebrandhopper.com](https://thebrandhopper.com/2024/10/12/a-deep-dive-into-the-marketing-strategies-of-danone-silk/?utm_source=openai))\n",
    "\n",
    "  **Alpro**\n",
    "\n",
    "  - **Marketing Strategy**: Alpro focuses on educational health positioning, aiming to motivate consumers to choose plant-based alternatives. Their strategy includes providing extensive recipes and cooking courses on their website, offering inspiration for incorporating plant-based products into daily meals. ([researchgate.net](https://www.researchgate.net/publication/375407704_Plant-Based_Milk_Alternatives_Consumer_Needs_and_Marketing_Strategies?utm_source=openai))\n",
    "\n",
    "  - **Brand Positioning**: Alpro positions itself as a pioneer in plant-based dairy alternatives, emphasizing authenticity and a commitment to sustainability and health. They maintain transparency regarding ingredient sourcing and nutritional information to build trust with consumers. ([thebigmarketing.com](https://thebigmarketing.com/alpro-marketing-strategy-a-case-study/?utm_source=openai))\n",
    "\n",
    "  - **Notable Advertising Campaigns**: Alpro's campaigns often focus on educating consumers about the benefits of plant-based nutrition and promoting a vegan lifestyle. They engage in strategic partnerships with organizations and influencers that align with their values, enhancing their market presence. ([thebigmarketing.com](https://thebigmarketing.com/alpro-marketing-strategy-a-case-study/?utm_source=openai))\n",
    "\n",
    "  **Vitasoy**\n",
    "\n",
    "  - **Marketing Strategy**: Vitasoy employs a 360-degree marketing approach, utilizing both digital and conventional marketing channels. They engage with consumers through social media, TV advertising, and point-of-sale displays, aiming to reach a wide audience. ([food-product-development-hannah.weebly.com](https://food-product-development-hannah.weebly.com/marketing-strategies-evaluation.html?utm_source=openai))\n",
    "\n",
    "  - **Brand Positioning**: Vitasoy targets consumers with lactose, dairy, and gluten intolerances, positioning its products as healthy and suitable alternatives. ([food-product-development-hannah.weebly.com](https://food-product-development-hannah.weebly.com/marketing-strategies-evaluation.html?utm_source=openai))\n",
    "\n",
    "  - **Notable Advertising Campaigns**: Vitasoy has released effective TV advertisements in China and Australia, highlighting the health benefits of their soy milk ranges. ([food-product-development-hannah.weebly.com](https://food-product-development-hannah.weebly.com/marketing-strategies-evaluation.html?utm_source=openai))\n",
    "\n",
    "  **Oatly**\n",
    "\n",
    "  - **Marketing Strategy**: Oatly's marketing approach is unconventional and bold, often challenging traditional dairy norms. They engage with their audience through witty and irreverent messaging, fostering a sense of trust and loyalty. Oatly also collaborates with influencers and celebrities who share their mission, extending their brand reach. ([latterly.org](https://www.latterly.org/oatly-marketing-strategy/?utm_source=openai))\n",
    "\n",
    "  - **Brand Positioning**: Oatly positions itself as a young, cool, and rebellious brand, resonating with consumers who value sustainability and authenticity. They emphasize environmental responsibility and transparency in their messaging. ([latterly.org](https://www.latterly.org/oatly-marketing-strategy/?utm_source=openai))\n",
    "\n",
    "  - **Notable Advertising Campaigns**: Oatly's campaigns often feature clever and irreverent messaging, such as their \"It's Like Milk But Made For Humans\" slogan. They also engage in unconventional marketing tactics, like using humor and sarcasm to challenge industry norms. ([latterly.org](https://www.latterly.org/oatly-marketing-strategy/?utm_source=openai))\n",
    "\n",
    "  These brands exemplify diverse marketing strategies and brand positioning within the soy milk category, each catering to specific consumer needs and preferences.\n",
    "\"\"\"\n",
    "\n",
    "tool_search_result_enhanced =  f\"User Expected Strategies {expected_marketing_strat} \\n\\n\" + f\"Online Tool Search Result : {tool_search_result} \\n\"\n",
    "\n",
    "# Construct prompt to enhance the visual concept\n",
    "enhance_prompt = f\"\"\"\n",
    "  You are a visual branding assistant.\n",
    "\n",
    "  Below is a base visual concept for a product image (JSON input), followed by a company profile and marketing strategy (or competitor strategy if the company is not found)..\n",
    "\n",
    "  Your goal is to refine and elevate the base visual concept by:\n",
    "  1. Aligns more closely with the brand's identity, values, and tone of voice.\n",
    "  2. Enhancing visual communication to speak clearly to the company’s target audience and reflect its product positioning.\n",
    "  3. Integrates subtle but powerful visual cues (e.g., lighting, texture, text placement) that reinforce the brand’s unique character—whether that’s luxury, natural simplicity, scientific rigor, or clinical precision.\n",
    "  4. Translating abstract branding concepts into concrete design directions using design, photography, and art direction vocabulary (e.g., “matte finish,” “diffused natural light,” “editorial composition”).\n",
    "  5. Evokes a compelling mood or emotional tone that supports the brand’s storytelling.\n",
    "  6. Modifying or reworking the original layout or styling only if it reinforces brand differentiation or improves visual storytelling.\n",
    "  7. Please return your final refined output in JSON format with these exact fields:\n",
    "    [\n",
    "      'company_name', 'product_type',\n",
    "      'main_subject', 'composition_and_framing', 'background_environment', 'foreground_elements',\n",
    "      'lighting_and_mood', 'color_palette', 'visual_style', 'promotional_text_visuals',\n",
    "      'branding_visuals', 'texture_and_details',\n",
    "      'target_audience', 'business_objective', 'content_niche_or_theme', 'brand_voice'\n",
    "      'marketing_strategy', 'advertising_campaigns'\n",
    "    ]\n",
    "\n",
    "  --- Visual Concept ---\n",
    "  {visual_context}\n",
    "\n",
    "  ---  Company Profile or Competitor Marketing Strategy ---\n",
    "  {tool_search_result_enhanced}\n",
    "\n",
    "  If no company branding is found, use the competitor’s marketing strategy as a proxy and note this in the output.\n",
    "  You may modify any part of the original visual concept if it results in a stronger alignment with the brand or improves competitive differentiation.\n",
    "\n",
    "\"\"\"\n",
    "\n",
    "# print(enhance_prompt)\n",
    "\n",
    "visual_context_enhancement = client.responses.create(\n",
    "    model='o4-mini',\n",
    "    reasoning={\n",
    "        \"effort\": \"medium\",\n",
    "        \"summary\": \"auto\" # auto gives you the best available summary (detailed > auto > None)\n",
    "    },\n",
    "    input=[\n",
    "        {\"role\": \"system\", \"content\": \"You are a creative visual branding assistant.\"},\n",
    "        {\"role\": \"user\", \"content\": enhance_prompt}\n",
    "    ],\n",
    ")"
   ]
  },
  {
   "cell_type": "code",
   "execution_count": null,
   "metadata": {
    "colab": {
     "base_uri": "https://localhost:8080/"
    },
    "executionInfo": {
     "elapsed": 25,
     "status": "ok",
     "timestamp": 1746893277887,
     "user": {
      "displayName": "clarence chan",
      "userId": "16516869579974611907"
     },
     "user_tz": -480
    },
    "id": "osWrgi1vkH2m",
    "outputId": "cb34cb35-0d80-4639-e4f6-38970a10e21d"
   },
   "outputs": [
    {
     "name": "stdout",
     "output_type": "stream",
     "text": [
      "Search Usage = Inputs : 2351 tokens, Outputs : 2064 tokens \n",
      "\n",
      "Reasoning Effort : medium \n",
      "\n",
      "Output : {\"company_name\":\"Eesoy\",\"product_type\":\"Soy Milk\",\"main_subject\":\"A premium glass bottle of Eesoy soy milk with a blush-pink cap and a clean, modern label front-and-center, angled slightly to reveal the nutritional panel.\",\"composition_and_framing\":\"Asymmetrical rule-of-thirds: the bottle sits in the right third, pouring a stream of milk into a glass on the left. A subtle diagonal flow connects bottle, glass, and foreground elements, guiding the eye in a gentle triangular loop.\",\"background_environment\":\"Warm beige, hand-torn craft paper with embossed soy leaf motifs and faint botanical line art in tonal ivory, evoking artisanal authenticity and natural origin.\",\"foreground_elements\":\"Half-filled glass capturing the pouring motion, fresh strawberry and kiwi slices casually arranged, a bamboo straw angled toward the viewer, and a small chalkboard tile with handwritten “8 g Protein” in white chalk ink.\",\"lighting_and_mood\":\"Soft, diffused morning light from upper left, mimicking a family kitchen window. Warm bounce fill softens shadows; a gentle golden rim light accentuates milk droplets and highlights bottle curves, evoking an inviting, wholesome atmosphere.\",\"color_palette\":\"Creamy ivory base, warm beige craft tones, blush pink accents (cap and ribbons), rich forest green pops (fruit and leaf icons), and charcoal gray for text and fine details.\",\"visual_style\":\"Modern editorial food photography with a matte finish; minimalistic infographic overlays for key benefits. A blend of aspirational lifestyle warmth and clear, educational messaging.\",\"promotional_text_visuals\":\"Upper-left blush-pink ribbon reading “Pure Plant Power Since ’95” in a friendly script. Beneath the bottle, charcoal gray icon strips (pea icon + “Non-GMO,” leaf icon + “No Added Sugar,” protein atom icon + “8 g Protein/serving”). A small QR code icon sits discreetly in the lower right corner.\",\"branding_visuals\":\"Eesoy wordmark in refined serif embossed on the bottle label. Cap matches blush-pink accent. Label border in charcoal gray. Subtle, repeating soy leaf watermark pattern across the background paper.\",\"texture_and_details\":\"Visible condensation rings on the glass, slight linen grain on the bottle label, authentic paper fiber texture in the backdrop, glossy highlights on milk droplets, and delicate embossing on craft paper.\",\"target_audience\":\"Health-conscious parents seeking wholesome, plant-based options for their families.\",\"business_objective\":\"Boost brand awareness and solidify Eesoy as the trusted daily soy milk choice in family households.\",\"content_niche_or_theme\":\"Family wellness and nutrition education delivered through engaging, story-driven product imagery.\",\"brand_voice\":\"Caring, knowledgeable, and approachable, with a warm, authentic tone.\",\"marketing_strategy\":\"Proxy used: Silk Soy Milk’s comprehensive multi-channel approach—digital advertising, social media engagement, influencer partnerships, plus coordinated TV, print, and out-of-home placements to build trust and brand recall.\",\"advertising_campaigns\":[{\"name\":\"Eesoy Kitchen Stories\",\"description\":\"Influencer-led recipe tutorials and family breakfast segments featuring Eesoy in real homes.\"},{\"name\":\"Since ’95 Heritage Spots\",\"description\":\"TV and streaming ads during family programming, highlighting Eesoy’s legacy and daily family moments.\"},{\"name\":\"Milk Moments UGC Contest\",\"description\":\"Social media call-to-action inviting parents to share their favorite Eesoy moments with branded hashtag for prizes.\"}]}\n"
     ]
    }
   ],
   "source": [
    "enhanced_prompt = visual_context_enhancement.output_text\n",
    "print(f\"Search Usage = Inputs : {visual_context_enhancement.usage.input_tokens} tokens, Outputs : {visual_context_enhancement.usage.output_tokens} tokens \\n\")\n",
    "print(f\"Reasoning Effort : {visual_context_enhancement.reasoning.effort} \\n\")\n",
    "print(f\"Output : {visual_context_enhancement.output_text}\")"
   ]
  },
  {
   "cell_type": "code",
   "execution_count": null,
   "metadata": {
    "id": "pjcnccY2aAk7"
   },
   "outputs": [],
   "source": [
    "# enhanced_prompt = {\n",
    "#   \"company_name\": \"Eesoy\",\n",
    "#   \"product_type\": \"Premium Handcrafted Soy Milk\",\n",
    "#   \"main_subject\": \"A frosted glass bottle of Eesoy soy milk with a minimalist matte-white label embossed in soft gold foil, capped with a natural cork top. Condensation is subtly visible to convey freshness without overwhelming the clean aesthetic.\",\n",
    "#   \"color_palette\": \"Ivory (#F8F3ED), Warm Taupe (#D8CFC3), Soft Gold Foil (#C8A36D), Deep Charcoal Text (#2B2A29), Mint Green Accents (#A3C6A8).\",\n",
    "#   \"visual_style\": \"High-end editorial photography with Scandinavian minimalism. Matte finish on surfaces, shallow depth of field to softly blur background texture, slight analogue film grain for warmth. Cinematic color grade emphasizing warm neutrals and gold foil highlights.\",\n",
    "#   \"promotional_text_visuals\": \"Headline “PURE SOY CRAFT” in an elegant serif (weight medium) with soft gold foil effect, placed in the left negative space, flush left. Subhead “Experience Handcrafted Wellness” in a modern sans-serif (weight regular) in deep charcoal, smaller and right-aligned below the headline. A fine gold line separates the two texts.\",\n",
    "#   \"branding_visuals\": \"Bottom right lockup of the circular Eesoy logo in matte gold on ivory, surrounded by a thin charcoal ring. Underneath, the tagline “Naturally Refined” in italic serif, taupe. A narrow gold foil accent bar runs along the bottom edge.\",\n",
    "#   \"texture_and_details\": \"Subtle linen weave on the napkin, honed matte marble texture, fine film grain, delicate condensation droplets on the bottle. The porcelain dish’s unglazed foot reveals its hand-crafted origin.\",\n",
    "#   \"target_audience\": \"Affluent health-conscious professionals and eco-luxury lifestyle seekers aged 25–45.\",\n",
    "#   \"business_objective\": \"Launch and position Eesoy as a premium soy milk brand in the specialty dairy-alternative market.\",\n",
    "#   \"content_niche_or_theme\": \"Premium wellness lifestyle and artisanal craft beverages.\",\n",
    "#   \"brand_voice\": \"Sophisticated, authentic, wellness-focused.\",\n",
    "#   \"marketing_strategy\": \"Borrowing Alpro’s educational health positioning as a proxy: emphasize transparency in sourcing (show farm-to-bottle stories), sustainability credentials, and nutritional benefits. Leverage digital channels for recipe content and expert interviews. Build trust through detailed ingredient storytelling and third-party certifications.\",\n",
    "#   \"advertising_campaigns\": \"1. “Eesoy Crafted Recipes” video series with plant-based chefs. 2. Instagram “Eesoy Moments” UGC campaign inviting consumers to share their premium soy milk rituals. 3. Partnership with wellness influencers for “Morning Refined” sponsored content. 4. Print and digital ads in high-end lifestyle and culinary magazines highlighting farm-to-table authenticity.\"\n",
    "# }\n",
    "# print(enhanced_prompt)"
   ]
  },
  {
   "cell_type": "markdown",
   "metadata": {
    "id": "xH_ALR762T2E"
   },
   "source": [
    "#### Test OpenAI ImageGeneration / ImageEdit\n",
    "- Using prompt from 'creative_prompt_to_image_gen'\n",
    "- Tune parameters for more creativity"
   ]
  },
  {
   "cell_type": "code",
   "execution_count": null,
   "metadata": {
    "colab": {
     "base_uri": "https://localhost:8080/"
    },
    "executionInfo": {
     "elapsed": 41174,
     "status": "ok",
     "timestamp": 1746893415019,
     "user": {
      "displayName": "clarence chan",
      "userId": "16516869579974611907"
     },
     "user_tz": -480
    },
    "id": "XWK4OdS32fLA",
    "outputId": "5b14cc53-0ff8-427e-b03a-989e295d8ec2"
   },
   "outputs": [
    {
     "name": "stdout",
     "output_type": "stream",
     "text": [
      "Image Prompt = \n",
      "  ---- IMAGE BRIEF: Visual Concept Reference with Company Branding -------\n",
      "  {\"company_name\":\"Eesoy\",\"product_type\":\"Soy Milk\",\"main_subject\":\"A premium glass bottle of Eesoy soy milk with a blush-pink cap and a clean, modern label front-and-center, angled slightly to reveal the nutritional panel.\",\"composition_and_framing\":\"Asymmetrical rule-of-thirds: the bottle sits in the right third, pouring a stream of milk into a glass on the left. A subtle diagonal flow connects bottle, glass, and foreground elements, guiding the eye in a gentle triangular loop.\",\"background_environment\":\"Warm beige, hand-torn craft paper with embossed soy leaf motifs and faint botanical line art in tonal ivory, evoking artisanal authenticity and natural origin.\",\"foreground_elements\":\"Half-filled glass capturing the pouring motion, fresh strawberry and kiwi slices casually arranged, a bamboo straw angled toward the viewer, and a small chalkboard tile with handwritten “8 g Protein” in white chalk ink.\",\"lighting_and_mood\":\"Soft, diffused morning light from upper left, mimicking a family kitchen window. Warm bounce fill softens shadows; a gentle golden rim light accentuates milk droplets and highlights bottle curves, evoking an inviting, wholesome atmosphere.\",\"color_palette\":\"Creamy ivory base, warm beige craft tones, blush pink accents (cap and ribbons), rich forest green pops (fruit and leaf icons), and charcoal gray for text and fine details.\",\"visual_style\":\"Modern editorial food photography with a matte finish; minimalistic infographic overlays for key benefits. A blend of aspirational lifestyle warmth and clear, educational messaging.\",\"promotional_text_visuals\":\"Upper-left blush-pink ribbon reading “Pure Plant Power Since ’95” in a friendly script. Beneath the bottle, charcoal gray icon strips (pea icon + “Non-GMO,” leaf icon + “No Added Sugar,” protein atom icon + “8 g Protein/serving”). A small QR code icon sits discreetly in the lower right corner.\",\"branding_visuals\":\"Eesoy wordmark in refined serif embossed on the bottle label. Cap matches blush-pink accent. Label border in charcoal gray. Subtle, repeating soy leaf watermark pattern across the background paper.\",\"texture_and_details\":\"Visible condensation rings on the glass, slight linen grain on the bottle label, authentic paper fiber texture in the backdrop, glossy highlights on milk droplets, and delicate embossing on craft paper.\",\"target_audience\":\"Health-conscious parents seeking wholesome, plant-based options for their families.\",\"business_objective\":\"Boost brand awareness and solidify Eesoy as the trusted daily soy milk choice in family households.\",\"content_niche_or_theme\":\"Family wellness and nutrition education delivered through engaging, story-driven product imagery.\",\"brand_voice\":\"Caring, knowledgeable, and approachable, with a warm, authentic tone.\",\"marketing_strategy\":\"Proxy used: Silk Soy Milk’s comprehensive multi-channel approach—digital advertising, social media engagement, influencer partnerships, plus coordinated TV, print, and out-of-home placements to build trust and brand recall.\",\"advertising_campaigns\":[{\"name\":\"Eesoy Kitchen Stories\",\"description\":\"Influencer-led recipe tutorials and family breakfast segments featuring Eesoy in real homes.\"},{\"name\":\"Since ’95 Heritage Spots\",\"description\":\"TV and streaming ads during family programming, highlighting Eesoy’s legacy and daily family moments.\"},{\"name\":\"Milk Moments UGC Contest\",\"description\":\"Social media call-to-action inviting parents to share their favorite Eesoy moments with branded hashtag for prizes.\"}]}\n",
      "\n",
      "  --- OBJECTIVE ----\n",
      "  Use the visual concept above as a launchpad, not a limitation. \n",
      "  You are encouraged to reinterpret or reimagine the scene to better reflect the brand's emotional resonance, product identity, and lifestyle fit. \n",
      "  Your goal is to create a visually striking, human-centered, and emotionally layered image that feels fresh, real, and brand-authentic.\n",
      "  \n",
      "  --- CREATIVE DIRECTION ----\n",
      "  This is not a static product shot.\n",
      "  It’s a moment pulled from a story—an image that speaks to the soul of the brand and how the product lives in the world.\n",
      "\n",
      "  1. **Realistic and Relatable**\n",
      "    - Ground the product in real-life contexts—how it’s used, where it lives, or how it fits naturally into someone’s daily lifestyle.\n",
      "    - Prioritize authenticity and aspirational relatability.\n",
      "\n",
      "  2. **Emotionally Resonant**\n",
      "    - Capture a specific feeling or mood—freedom, calm, indulgence, confidence, curiosity, etc.—as experienced by real people.\n",
      "    - Suggest human presence without showing a full face.\n",
      "      (e.g., hands holding the product, a shoulder in frame, a figure from behind or partially out of focus)\n",
      "    - Only Asian human presence (if included)\n",
      "    - This maintains relatability while preserving versatility for marketing.\n",
      "    - Use composition, props, environment, and lighting to evoke emotion and storytelling.\n",
      "\n",
      "  3. **Lifestyle-Embedded**\n",
      "    - Embed the product into a broader lifestyle narrative aligned with the target audience.\n",
      "    - Include subtle lifestyle details and visual cues that reflect the company’s core values.\n",
      "\n",
      "  4. ** Brand-Integrated (Marketing & Identity)**\n",
      "    - Ensure the image includes the following branding elements:\n",
      "      a. Company Logo\n",
      "        - Integrate it naturally within the composition—on packaging, in the environment, or as a design overlay.\n",
      "        - Use colors and placement consistent with the brand's visual identity.\n",
      "\n",
      "      b. Slogan or Headline Text\n",
      "        - Include key brand messaging or a promotional tagline as stylized overlay text if specified in the prompt.\n",
      "        - Follow typographic and placement guidance provided in the enhanced prompt.\n",
      "        - Overlay text should be legible, not intrusive—consider whitespace, padding, and image balance.\n",
      "\n",
      "      c. Overlay Text Styling Guidance\n",
      "        - Use a subtle text background overlay (e.g., semi-transparent white or dark box with 70–85% opacity) to ensure readability against complex visuals.\n",
      "        - Apply soft drop shadow or blurred box glow under text for clarity if placed over bright areas.\n",
      "        - Maintain padding around the text box (at least 5–8% of frame width) for elegant spacing.\n",
      "        - Position overlay within the negative space or low-detail areas to avoid visual tension.\n",
      "        - Keep text hierarchy clear (headline > subhead > taglines) with size and weight variation.\n",
      "\n",
      "      d. Visual Messaging from Brand Strategy\n",
      "        - Express brand values through visual styling, such as:\n",
      "          Handcrafted quality: warm textures, artisanal props\n",
      "          Natural simplicity: soft natural light, minimal composition\n",
      "          Wellness orientation: calm ambiance, plant elements, refreshing tones\n",
      "          Precision and clarity: clean backgrounds, sharp focus, orderly layout\n",
      "\n",
      "      e. Taglines or Value Propositions (optional)\n",
      "        - If space and composition allow, include subtle secondary text\n",
      "\n",
      " \n",
      "Prompt tokens: 1401\n",
      "Input images tokens: 0\n",
      "Output image tokens: 4160\n"
     ]
    }
   ],
   "source": [
    "image_client = OpenAI(api_key='')\n",
    "\n",
    "# visual_context_enhancement = visual_context\n",
    "# image_prompt=f\"\"\"\n",
    "#   Create a new image with the following visual concept:\n",
    "#   {enhanced_prompt}\n",
    "\n",
    "#   This concept should serve as a creative foundation, but feel free to adapt, expand, or reinterpret elements as needed to enhance the final visual. You are encouraged to:\n",
    "#   1. Add or remove details to heighten the emotional tone, storytelling, or visual clarity.\n",
    "#   2. Introduce imaginative elements that strengthen the brand character—whether through setting, color palette, props, textures, or light.\n",
    "#   3. Push the visual language further if it helps communicate the luxury, science-backed, clinical, or nature-driven identity more effectively.\n",
    "#   4. Use artistic judgment to ensure the image feels refined, cohesive, and on-brand, even if it diverges from the original reference.\n",
    "#   5. The result should be an elevated, creatively interpreted version of the visual direction, suitable for use in a high-quality brand campaign, mood board, or product showcase.\n",
    "# \"\"\"\n",
    "\n",
    "image_prompt = f\"\"\"\n",
    "  ---- IMAGE BRIEF: Visual Concept Reference with Company Branding -------\n",
    "  {enhanced_prompt}\n",
    "\n",
    "  --- OBJECTIVE ----\n",
    "  Use the visual concept above as a launchpad, not a limitation.\n",
    "  You are encouraged to reinterpret or reimagine the scene to better reflect the brand's emotional resonance, product identity, and lifestyle fit.\n",
    "  Your goal is to create a visually striking, human-centered, and emotionally layered image that feels fresh, real, and brand-authentic.\n",
    "\n",
    "  --- CREATIVE DIRECTION ----\n",
    "  This is not a static product shot.\n",
    "  It’s a moment pulled from a story—an image that speaks to the soul of the brand and how the product lives in the world.\n",
    "\n",
    "  1. **Realistic and Relatable**\n",
    "    - Ground the product in real-life contexts—how it’s used, where it lives, or how it fits naturally into someone’s daily lifestyle.\n",
    "    - Prioritize authenticity and aspirational relatability.\n",
    "\n",
    "  2. **Emotionally Resonant**\n",
    "    - Capture a specific feeling or mood—freedom, calm, indulgence, confidence, curiosity, etc.—as experienced by real people.\n",
    "    - Suggest human presence without showing a full face.\n",
    "      (e.g., hands holding the product, a shoulder in frame, a figure from behind or partially out of focus)\n",
    "    - Only Asian human presence (if included)\n",
    "    - This maintains relatability while preserving versatility for marketing.\n",
    "    - Use composition, props, environment, and lighting to evoke emotion and storytelling.\n",
    "\n",
    "  3. **Lifestyle-Embedded**\n",
    "    - Embed the product into a broader lifestyle narrative aligned with the target audience.\n",
    "    - Include subtle lifestyle details and visual cues that reflect the company’s core values.\n",
    "\n",
    "  4. ** Brand-Integrated (Marketing & Identity)**\n",
    "    - Ensure the image includes the following branding elements:\n",
    "      a. Company Logo\n",
    "        - Integrate it naturally within the composition—on packaging, in the environment, or as a design overlay.\n",
    "        - Use colors and placement consistent with the brand's visual identity.\n",
    "\n",
    "      b. Slogan or Headline Text\n",
    "        - Include key brand messaging or a promotional tagline as stylized overlay text if specified in the prompt.\n",
    "        - Follow typographic and placement guidance provided in the enhanced prompt.\n",
    "        - Overlay text should be legible, not intrusive—consider whitespace, padding, and image balance.\n",
    "\n",
    "      c. Overlay Text Styling Guidance\n",
    "        - Use a subtle text background overlay (e.g., semi-transparent white or dark box with 70–85% opacity) to ensure readability against complex visuals.\n",
    "        - Apply soft drop shadow or blurred box glow under text for clarity if placed over bright areas.\n",
    "        - Maintain padding around the text box (at least 5–8% of frame width) for elegant spacing.\n",
    "        - Position overlay within the negative space or low-detail areas to avoid visual tension.\n",
    "        - Keep text hierarchy clear (headline > subhead > taglines) with size and weight variation.\n",
    "\n",
    "      d. Visual Messaging from Brand Strategy\n",
    "        - Express brand values through visual styling, such as:\n",
    "          Handcrafted quality: warm textures, artisanal props\n",
    "          Natural simplicity: soft natural light, minimal composition\n",
    "          Wellness orientation: calm ambiance, plant elements, refreshing tones\n",
    "          Precision and clarity: clean backgrounds, sharp focus, orderly layout\n",
    "\n",
    "      e. Taglines or Value Propositions (optional)\n",
    "        - If space and composition allow, include subtle secondary text\n",
    "\n",
    " \"\"\"\n",
    "\n",
    "\n",
    "print(f\"Image Prompt = {image_prompt}\")\n",
    "\n",
    "moderation = 'auto'\n",
    "quality = 'high'\n",
    "\n",
    "img = image_client.images.generate(\n",
    "    model='gpt-image-1',\n",
    "    prompt=image_prompt,\n",
    "    n=1,\n",
    "    quality=quality,\n",
    "    size='1024x1024',\n",
    "    moderation=moderation,\n",
    "    output_format='png',\n",
    ")\n",
    "\n",
    "print(\"Prompt tokens:\", img.usage.input_tokens_details.text_tokens)\n",
    "print(\"Input images tokens:\", img.usage.input_tokens_details.image_tokens)\n",
    "print(\"Output image tokens:\", img.usage.output_tokens)"
   ]
  }
 ],
 "metadata": {
  "colab": {
   "authorship_tag": "ABX9TyOQi/bNk1PIPOWVw5IB8PpQ",
   "mount_file_id": "1bQMM4zLsG3jqednqmLTMEdM_2qSV0G_C",
   "provenance": []
  },
  "kernelspec": {
   "display_name": "venv_ads",
   "language": "python",
   "name": "python3"
  },
  "language_info": {
   "codemirror_mode": {
    "name": "ipython",
    "version": 3
   },
   "file_extension": ".py",
   "mimetype": "text/x-python",
   "name": "python",
   "nbconvert_exporter": "python",
   "pygments_lexer": "ipython3",
   "version": "3.11.7"
  }
 },
 "nbformat": 4,
 "nbformat_minor": 0
}
